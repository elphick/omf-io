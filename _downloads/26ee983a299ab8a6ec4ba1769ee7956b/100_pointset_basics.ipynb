{
  "cells": [
    {
      "cell_type": "markdown",
      "metadata": {},
      "source": [
        "\n# PointSetIO Basics\n\nThis example demonstrates the basic usage of the PointSetIO class.\n"
      ]
    },
    {
      "cell_type": "code",
      "execution_count": null,
      "metadata": {
        "collapsed": false
      },
      "outputs": [],
      "source": [
        "import tempfile\nfrom pathlib import Path\n\nimport pandas as pd\nimport geopandas as gpd\nimport pyvista as pv\n\nfrom omf_io.pointset import PointSetIO\nfrom omf_io.reader import OMFReader"
      ]
    },
    {
      "cell_type": "markdown",
      "metadata": {},
      "source": [
        "## Load a PointSet\nLoad a point set from a OMF file\n\n"
      ]
    },
    {
      "cell_type": "code",
      "execution_count": null,
      "metadata": {
        "collapsed": false
      },
      "outputs": [],
      "source": [
        "pointset_io: PointSetIO = PointSetIO.from_omf(omf_input=Path('../assets/copper_deposit.omf'),\n                                              pointset_name='collar')\n\npointset_io.data.head(10)"
      ]
    },
    {
      "cell_type": "markdown",
      "metadata": {},
      "source": [
        "## Demonstrate conversions\nExercise the PointSetIO class with various conversions\n\n"
      ]
    },
    {
      "cell_type": "markdown",
      "metadata": {},
      "source": [
        "### CSV file\n\n"
      ]
    },
    {
      "cell_type": "code",
      "execution_count": null,
      "metadata": {
        "collapsed": false
      },
      "outputs": [],
      "source": [
        "point_data: pd.DataFrame = pointset_io.data.head(10)\nout_filepath: Path = Path(tempfile.gettempdir()) / 'pointset_data.csv'\ncsv_filepath: Path = PointSetIO(data=point_data).to_csv(out_filepath)\n\n# read and print the csv\ncsv_point_data = pd.read_csv(csv_filepath)\ncsv_point_data"
      ]
    },
    {
      "cell_type": "markdown",
      "metadata": {},
      "source": [
        "### Pandas DataFrame object\n\n"
      ]
    },
    {
      "cell_type": "code",
      "execution_count": null,
      "metadata": {
        "collapsed": false
      },
      "outputs": [],
      "source": [
        "df: pd.DataFrame = PointSetIO(data=point_data).to_pandas()\ndf"
      ]
    },
    {
      "cell_type": "markdown",
      "metadata": {},
      "source": [
        "### GeoPandas geodataframe object\n\n"
      ]
    },
    {
      "cell_type": "code",
      "execution_count": null,
      "metadata": {
        "collapsed": false
      },
      "outputs": [],
      "source": [
        "gdf: gpd.geodataframe = PointSetIO(data=point_data).to_geopandas()\ngdf"
      ]
    },
    {
      "cell_type": "markdown",
      "metadata": {},
      "source": [
        "### PLY file\n\n"
      ]
    },
    {
      "cell_type": "code",
      "execution_count": null,
      "metadata": {
        "collapsed": false
      },
      "outputs": [],
      "source": [
        "ply_filepath: Path = PointSetIO(data=point_data).to_ply(out_filepath.with_suffix('.ply'), binary=False)\n\n# read and print the PLY using file.open\nwith ply_filepath.open('r') as f:\n    ply_data = f.readlines()\nprint(''.join(ply_data))"
      ]
    },
    {
      "cell_type": "markdown",
      "metadata": {},
      "source": [
        "### PyVista Polydata object\n\n"
      ]
    },
    {
      "cell_type": "code",
      "execution_count": null,
      "metadata": {
        "collapsed": false
      },
      "outputs": [],
      "source": [
        "poly: pv.PolyData = PointSetIO(data=point_data).to_pyvista()\npoly.point_data"
      ]
    },
    {
      "cell_type": "markdown",
      "metadata": {},
      "source": [
        "### OMF file\n\n"
      ]
    },
    {
      "cell_type": "code",
      "execution_count": null,
      "metadata": {
        "collapsed": false
      },
      "outputs": [],
      "source": [
        "omf_filepath: Path = PointSetIO(data=point_data).to_omf(element_name='collar_top_10',\n                                                        output_file=out_filepath.with_suffix('.omf'))"
      ]
    },
    {
      "cell_type": "markdown",
      "metadata": {},
      "source": [
        "View the OMF elements\n\n"
      ]
    },
    {
      "cell_type": "code",
      "execution_count": null,
      "metadata": {
        "collapsed": false
      },
      "outputs": [],
      "source": [
        "omfr: OMFReader = OMFReader(filepath=out_filepath.with_suffix('.omf'))\nomfr.element_types"
      ]
    }
  ],
  "metadata": {
    "kernelspec": {
      "display_name": "Python 3",
      "language": "python",
      "name": "python3"
    },
    "language_info": {
      "codemirror_mode": {
        "name": "ipython",
        "version": 3
      },
      "file_extension": ".py",
      "mimetype": "text/x-python",
      "name": "python",
      "nbconvert_exporter": "python",
      "pygments_lexer": "ipython3",
      "version": "3.12.10"
    }
  },
  "nbformat": 4,
  "nbformat_minor": 0
}